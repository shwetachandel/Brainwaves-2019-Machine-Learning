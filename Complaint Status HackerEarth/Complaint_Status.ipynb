{
 "cells": [
  {
   "cell_type": "code",
   "execution_count": 1,
   "metadata": {
    "colab": {
     "base_uri": "https://localhost:8080/",
     "height": 35
    },
    "colab_type": "code",
    "id": "lmHPoKqLRKQj",
    "outputId": "ca703851-47b0-43ae-c7ff-9e5f02388843"
   },
   "outputs": [
    {
     "name": "stdout",
     "output_type": "stream",
     "text": [
      "Drive already mounted at /content/drive/; to attempt to forcibly remount, call drive.mount(\"/content/drive/\", force_remount=True).\n"
     ]
    }
   ],
   "source": [
    "from google.colab import drive\n",
    "drive.mount('/content/drive/')"
   ]
  },
  {
   "cell_type": "code",
   "execution_count": 2,
   "metadata": {
    "colab": {
     "base_uri": "https://localhost:8080/",
     "height": 35
    },
    "colab_type": "code",
    "id": "k7X3eiAqS1Bi",
    "outputId": "b671a4ed-5c36-4286-e428-d078f7eb7ab4"
   },
   "outputs": [
    {
     "data": {
      "text/plain": [
       "'/device:GPU:0'"
      ]
     },
     "execution_count": 2,
     "metadata": {
      "tags": []
     },
     "output_type": "execute_result"
    }
   ],
   "source": [
    "import tensorflow as tf\n",
    "tf.test.gpu_device_name()"
   ]
  },
  {
   "cell_type": "code",
   "execution_count": 3,
   "metadata": {
    "colab": {
     "base_uri": "https://localhost:8080/",
     "height": 146
    },
    "colab_type": "code",
    "id": "ThT4rsNySkcB",
    "outputId": "029c02bb-8eae-42d9-822f-46f4c21065a7"
   },
   "outputs": [
    {
     "name": "stdout",
     "output_type": "stream",
     "text": [
      "[nltk_data] Downloading package stopwords to /root/nltk_data...\n",
      "[nltk_data]   Package stopwords is already up-to-date!\n",
      "[nltk_data] Downloading package punkt to /root/nltk_data...\n",
      "[nltk_data]   Package punkt is already up-to-date!\n",
      "[nltk_data] Downloading package wordnet to /root/nltk_data...\n",
      "[nltk_data]   Package wordnet is already up-to-date!\n"
     ]
    },
    {
     "data": {
      "text/plain": [
       "True"
      ]
     },
     "execution_count": 3,
     "metadata": {
      "tags": []
     },
     "output_type": "execute_result"
    }
   ],
   "source": [
    "import nltk\n",
    "nltk.download('stopwords')\n",
    "nltk.download('punkt')\n",
    "nltk.download('wordnet')"
   ]
  },
  {
   "cell_type": "code",
   "execution_count": 0,
   "metadata": {
    "colab": {},
    "colab_type": "code",
    "id": "Y-65eGc9RLxg"
   },
   "outputs": [],
   "source": [
    "import pandas as pd\n",
    "import numpy as np\n",
    "from sklearn.preprocessing import LabelEncoder\n",
    "from sklearn.feature_extraction.text import CountVectorizer, TfidfVectorizer\n",
    "from nltk.corpus import stopwords\n",
    "from nltk.stem import PorterStemmer, WordNetLemmatizer\n",
    "from xgboost import XGBClassifier\n",
    "import re\n",
    "from nltk.stem.snowball import SnowballStemmer\n",
    "from sklearn.decomposition import PCA\n",
    "from sklearn.svm import SVC, LinearSVC\n",
    "from sklearn.decomposition import TruncatedSVD"
   ]
  },
  {
   "cell_type": "code",
   "execution_count": 0,
   "metadata": {
    "colab": {},
    "colab_type": "code",
    "id": "dkXFUzLTP5QZ"
   },
   "outputs": [],
   "source": [
    "train = pd.read_csv('/content/drive/My Drive/Colab Notebooks/SG/train.csv')\n",
    "test = pd.read_csv('/content/drive/My Drive/Colab Notebooks/SG/test.csv')\n",
    "submission = pd.read_csv('/content/drive/My Drive/Colab Notebooks/SG/sample_submission.csv')\n",
    "ids = test['Complaint-ID']"
   ]
  },
  {
   "cell_type": "code",
   "execution_count": 6,
   "metadata": {
    "colab": {
     "base_uri": "https://localhost:8080/",
     "height": 397
    },
    "colab_type": "code",
    "id": "Q9FHRicJP5Qn",
    "outputId": "be1c61ac-24e0-41bf-e3f7-d75941ad9f2a"
   },
   "outputs": [
    {
     "data": {
      "text/html": [
       "<div>\n",
       "<style scoped>\n",
       "    .dataframe tbody tr th:only-of-type {\n",
       "        vertical-align: middle;\n",
       "    }\n",
       "\n",
       "    .dataframe tbody tr th {\n",
       "        vertical-align: top;\n",
       "    }\n",
       "\n",
       "    .dataframe thead th {\n",
       "        text-align: right;\n",
       "    }\n",
       "</style>\n",
       "<table border=\"1\" class=\"dataframe\">\n",
       "  <thead>\n",
       "    <tr style=\"text-align: right;\">\n",
       "      <th></th>\n",
       "      <th>Complaint-ID</th>\n",
       "      <th>Date-received</th>\n",
       "      <th>Transaction-Type</th>\n",
       "      <th>Complaint-reason</th>\n",
       "      <th>Company-response</th>\n",
       "      <th>Date-sent-to-company</th>\n",
       "      <th>Complaint-Status</th>\n",
       "      <th>Consumer-disputes</th>\n",
       "      <th>Consumer-complaint-summary</th>\n",
       "    </tr>\n",
       "  </thead>\n",
       "  <tbody>\n",
       "    <tr>\n",
       "      <th>0</th>\n",
       "      <td>Tr-1</td>\n",
       "      <td>11/11/2015</td>\n",
       "      <td>Mortgage</td>\n",
       "      <td>Loan servicing, payments, escrow account</td>\n",
       "      <td>NaN</td>\n",
       "      <td>11/11/2015</td>\n",
       "      <td>Closed with explanation</td>\n",
       "      <td>Yes</td>\n",
       "      <td>Seterus, Inc a déposé un faux rapport auprès d...</td>\n",
       "    </tr>\n",
       "    <tr>\n",
       "      <th>1</th>\n",
       "      <td>Tr-2</td>\n",
       "      <td>07/07/2015</td>\n",
       "      <td>Credit reporting</td>\n",
       "      <td>Incorrect information on credit report</td>\n",
       "      <td>Company chooses not to provide a public response</td>\n",
       "      <td>07/07/2015</td>\n",
       "      <td>Closed with non-monetary relief</td>\n",
       "      <td>No</td>\n",
       "      <td>XX / XX / XXXX La requête en faillite n ° XXXX...</td>\n",
       "    </tr>\n",
       "    <tr>\n",
       "      <th>2</th>\n",
       "      <td>Tr-3</td>\n",
       "      <td>05/07/2015</td>\n",
       "      <td>Bank account or service</td>\n",
       "      <td>Using a debit or ATM card</td>\n",
       "      <td>NaN</td>\n",
       "      <td>05/07/2015</td>\n",
       "      <td>Closed with explanation</td>\n",
       "      <td>No</td>\n",
       "      <td>El XXXX / XXXX / 15, estaba preparando el vuel...</td>\n",
       "    </tr>\n",
       "    <tr>\n",
       "      <th>3</th>\n",
       "      <td>Tr-4</td>\n",
       "      <td>11/12/2016</td>\n",
       "      <td>Debt collection</td>\n",
       "      <td>Cont'd attempts collect debt not owed</td>\n",
       "      <td>Company believes it acted appropriately as aut...</td>\n",
       "      <td>11/12/2016</td>\n",
       "      <td>Closed with explanation</td>\n",
       "      <td>No</td>\n",
       "      <td>The loan was paid in XXXX XXXX. In XXXX, 4 yea...</td>\n",
       "    </tr>\n",
       "    <tr>\n",
       "      <th>4</th>\n",
       "      <td>Tr-5</td>\n",
       "      <td>9/29/2016</td>\n",
       "      <td>Credit card</td>\n",
       "      <td>Payoff process</td>\n",
       "      <td>Company has responded to the consumer and the ...</td>\n",
       "      <td>9/29/2016</td>\n",
       "      <td>Closed with explanation</td>\n",
       "      <td>No</td>\n",
       "      <td>J'ai obtenu un compte de crédit de soins pour ...</td>\n",
       "    </tr>\n",
       "  </tbody>\n",
       "</table>\n",
       "</div>"
      ],
      "text/plain": [
       "  Complaint-ID Date-received         Transaction-Type  \\\n",
       "0         Tr-1    11/11/2015                 Mortgage   \n",
       "1         Tr-2    07/07/2015         Credit reporting   \n",
       "2         Tr-3    05/07/2015  Bank account or service   \n",
       "3         Tr-4    11/12/2016          Debt collection   \n",
       "4         Tr-5     9/29/2016              Credit card   \n",
       "\n",
       "                           Complaint-reason  \\\n",
       "0  Loan servicing, payments, escrow account   \n",
       "1    Incorrect information on credit report   \n",
       "2                 Using a debit or ATM card   \n",
       "3     Cont'd attempts collect debt not owed   \n",
       "4                            Payoff process   \n",
       "\n",
       "                                    Company-response Date-sent-to-company  \\\n",
       "0                                                NaN           11/11/2015   \n",
       "1   Company chooses not to provide a public response           07/07/2015   \n",
       "2                                                NaN           05/07/2015   \n",
       "3  Company believes it acted appropriately as aut...           11/12/2016   \n",
       "4  Company has responded to the consumer and the ...            9/29/2016   \n",
       "\n",
       "                  Complaint-Status Consumer-disputes  \\\n",
       "0          Closed with explanation               Yes   \n",
       "1  Closed with non-monetary relief                No   \n",
       "2          Closed with explanation                No   \n",
       "3          Closed with explanation                No   \n",
       "4          Closed with explanation                No   \n",
       "\n",
       "                          Consumer-complaint-summary  \n",
       "0  Seterus, Inc a déposé un faux rapport auprès d...  \n",
       "1  XX / XX / XXXX La requête en faillite n ° XXXX...  \n",
       "2  El XXXX / XXXX / 15, estaba preparando el vuel...  \n",
       "3  The loan was paid in XXXX XXXX. In XXXX, 4 yea...  \n",
       "4  J'ai obtenu un compte de crédit de soins pour ...  "
      ]
     },
     "execution_count": 6,
     "metadata": {
      "tags": []
     },
     "output_type": "execute_result"
    }
   ],
   "source": [
    "train.head()"
   ]
  },
  {
   "cell_type": "code",
   "execution_count": 7,
   "metadata": {
    "colab": {
     "base_uri": "https://localhost:8080/",
     "height": 310
    },
    "colab_type": "code",
    "id": "B8Zcmp79P5Q5",
    "outputId": "b96480bb-7857-4689-e1be-aa3bcc06d7d2"
   },
   "outputs": [
    {
     "data": {
      "text/html": [
       "<div>\n",
       "<style scoped>\n",
       "    .dataframe tbody tr th:only-of-type {\n",
       "        vertical-align: middle;\n",
       "    }\n",
       "\n",
       "    .dataframe tbody tr th {\n",
       "        vertical-align: top;\n",
       "    }\n",
       "\n",
       "    .dataframe thead th {\n",
       "        text-align: right;\n",
       "    }\n",
       "</style>\n",
       "<table border=\"1\" class=\"dataframe\">\n",
       "  <thead>\n",
       "    <tr style=\"text-align: right;\">\n",
       "      <th></th>\n",
       "      <th>Complaint-ID</th>\n",
       "      <th>Date-received</th>\n",
       "      <th>Transaction-Type</th>\n",
       "      <th>Complaint-reason</th>\n",
       "      <th>Company-response</th>\n",
       "      <th>Date-sent-to-company</th>\n",
       "      <th>Consumer-disputes</th>\n",
       "      <th>Consumer-complaint-summary</th>\n",
       "    </tr>\n",
       "  </thead>\n",
       "  <tbody>\n",
       "    <tr>\n",
       "      <th>0</th>\n",
       "      <td>Te-1</td>\n",
       "      <td>8/18/2016</td>\n",
       "      <td>Bank account or service</td>\n",
       "      <td>Account opening, closing, or management</td>\n",
       "      <td>Company has responded to the consumer and the ...</td>\n",
       "      <td>8/18/2016</td>\n",
       "      <td>No</td>\n",
       "      <td>XXXX / XXXX / 16 I called Citibank to open a c...</td>\n",
       "    </tr>\n",
       "    <tr>\n",
       "      <th>1</th>\n",
       "      <td>Te-2</td>\n",
       "      <td>4/18/2016</td>\n",
       "      <td>Debt collection</td>\n",
       "      <td>Communication tactics</td>\n",
       "      <td>Company believes it acted appropriately as aut...</td>\n",
       "      <td>4/20/2016</td>\n",
       "      <td>No</td>\n",
       "      <td>I'm struggling financially. I called and I off...</td>\n",
       "    </tr>\n",
       "    <tr>\n",
       "      <th>2</th>\n",
       "      <td>Te-3</td>\n",
       "      <td>3/23/2016</td>\n",
       "      <td>Credit reporting</td>\n",
       "      <td>Incorrect information on credit report</td>\n",
       "      <td>NaN</td>\n",
       "      <td>3/23/2016</td>\n",
       "      <td>No</td>\n",
       "      <td>In XXXX of 2015, an automatic payment was conf...</td>\n",
       "    </tr>\n",
       "    <tr>\n",
       "      <th>3</th>\n",
       "      <td>Te-4</td>\n",
       "      <td>6/26/2017</td>\n",
       "      <td>Student loan</td>\n",
       "      <td>Dealing with your lender or servicer</td>\n",
       "      <td>NaN</td>\n",
       "      <td>6/26/2017</td>\n",
       "      <td>NaN</td>\n",
       "      <td>I submitted a request to XXXX, which is my cur...</td>\n",
       "    </tr>\n",
       "    <tr>\n",
       "      <th>4</th>\n",
       "      <td>Te-5</td>\n",
       "      <td>5/13/2016</td>\n",
       "      <td>Credit reporting</td>\n",
       "      <td>Incorrect information on credit report</td>\n",
       "      <td>Company has responded to the consumer and the ...</td>\n",
       "      <td>5/13/2016</td>\n",
       "      <td>No</td>\n",
       "      <td>A state tax lien was filed against me XXXX / X...</td>\n",
       "    </tr>\n",
       "  </tbody>\n",
       "</table>\n",
       "</div>"
      ],
      "text/plain": [
       "  Complaint-ID Date-received         Transaction-Type  \\\n",
       "0         Te-1     8/18/2016  Bank account or service   \n",
       "1         Te-2     4/18/2016          Debt collection   \n",
       "2         Te-3     3/23/2016         Credit reporting   \n",
       "3         Te-4     6/26/2017             Student loan   \n",
       "4         Te-5     5/13/2016         Credit reporting   \n",
       "\n",
       "                          Complaint-reason  \\\n",
       "0  Account opening, closing, or management   \n",
       "1                    Communication tactics   \n",
       "2   Incorrect information on credit report   \n",
       "3     Dealing with your lender or servicer   \n",
       "4   Incorrect information on credit report   \n",
       "\n",
       "                                    Company-response Date-sent-to-company  \\\n",
       "0  Company has responded to the consumer and the ...            8/18/2016   \n",
       "1  Company believes it acted appropriately as aut...            4/20/2016   \n",
       "2                                                NaN            3/23/2016   \n",
       "3                                                NaN            6/26/2017   \n",
       "4  Company has responded to the consumer and the ...            5/13/2016   \n",
       "\n",
       "  Consumer-disputes                         Consumer-complaint-summary  \n",
       "0                No  XXXX / XXXX / 16 I called Citibank to open a c...  \n",
       "1                No  I'm struggling financially. I called and I off...  \n",
       "2                No  In XXXX of 2015, an automatic payment was conf...  \n",
       "3               NaN  I submitted a request to XXXX, which is my cur...  \n",
       "4                No  A state tax lien was filed against me XXXX / X...  "
      ]
     },
     "execution_count": 7,
     "metadata": {
      "tags": []
     },
     "output_type": "execute_result"
    }
   ],
   "source": [
    "test.head()"
   ]
  },
  {
   "cell_type": "code",
   "execution_count": 8,
   "metadata": {
    "colab": {
     "base_uri": "https://localhost:8080/",
     "height": 206
    },
    "colab_type": "code",
    "id": "M_2nT4-HP5RE",
    "outputId": "adc2f003-9678-4445-b91a-6a2caf342943"
   },
   "outputs": [
    {
     "data": {
      "text/html": [
       "<div>\n",
       "<style scoped>\n",
       "    .dataframe tbody tr th:only-of-type {\n",
       "        vertical-align: middle;\n",
       "    }\n",
       "\n",
       "    .dataframe tbody tr th {\n",
       "        vertical-align: top;\n",
       "    }\n",
       "\n",
       "    .dataframe thead th {\n",
       "        text-align: right;\n",
       "    }\n",
       "</style>\n",
       "<table border=\"1\" class=\"dataframe\">\n",
       "  <thead>\n",
       "    <tr style=\"text-align: right;\">\n",
       "      <th></th>\n",
       "      <th>Complaint-ID</th>\n",
       "      <th>Complaint-Status</th>\n",
       "    </tr>\n",
       "  </thead>\n",
       "  <tbody>\n",
       "    <tr>\n",
       "      <th>0</th>\n",
       "      <td>Te-1</td>\n",
       "      <td>Closed with explanation</td>\n",
       "    </tr>\n",
       "    <tr>\n",
       "      <th>1</th>\n",
       "      <td>Te-2</td>\n",
       "      <td>Closed with explanation</td>\n",
       "    </tr>\n",
       "    <tr>\n",
       "      <th>2</th>\n",
       "      <td>Te-3</td>\n",
       "      <td>Closed with explanation</td>\n",
       "    </tr>\n",
       "    <tr>\n",
       "      <th>3</th>\n",
       "      <td>Te-4</td>\n",
       "      <td>Closed with explanation</td>\n",
       "    </tr>\n",
       "    <tr>\n",
       "      <th>4</th>\n",
       "      <td>Te-5</td>\n",
       "      <td>Closed with explanation</td>\n",
       "    </tr>\n",
       "  </tbody>\n",
       "</table>\n",
       "</div>"
      ],
      "text/plain": [
       "  Complaint-ID         Complaint-Status\n",
       "0         Te-1  Closed with explanation\n",
       "1         Te-2  Closed with explanation\n",
       "2         Te-3  Closed with explanation\n",
       "3         Te-4  Closed with explanation\n",
       "4         Te-5  Closed with explanation"
      ]
     },
     "execution_count": 8,
     "metadata": {
      "tags": []
     },
     "output_type": "execute_result"
    }
   ],
   "source": [
    "submission.head()"
   ]
  },
  {
   "cell_type": "code",
   "execution_count": 0,
   "metadata": {
    "colab": {},
    "colab_type": "code",
    "id": "kTj9wBCFP5RP"
   },
   "outputs": [],
   "source": [
    "train['Consumer-disputes'] = train['Consumer-disputes'].fillna('Yes')\n",
    "test['Consumer-disputes'] = test['Consumer-disputes'].fillna('Yes')"
   ]
  },
  {
   "cell_type": "code",
   "execution_count": 0,
   "metadata": {
    "colab": {},
    "colab_type": "code",
    "id": "kci3f3hDP5RY"
   },
   "outputs": [],
   "source": [
    "train['Company-response'] = train['Company-response'].fillna(' ')\n",
    "test['Company-response'] = test['Company-response'].fillna(' ')"
   ]
  },
  {
   "cell_type": "code",
   "execution_count": 11,
   "metadata": {
    "colab": {
     "base_uri": "https://localhost:8080/",
     "height": 397
    },
    "colab_type": "code",
    "id": "IjXBWcaQtKg1",
    "outputId": "ba382a6a-64b9-4a54-d14d-a85de26883f6"
   },
   "outputs": [
    {
     "data": {
      "text/html": [
       "<div>\n",
       "<style scoped>\n",
       "    .dataframe tbody tr th:only-of-type {\n",
       "        vertical-align: middle;\n",
       "    }\n",
       "\n",
       "    .dataframe tbody tr th {\n",
       "        vertical-align: top;\n",
       "    }\n",
       "\n",
       "    .dataframe thead th {\n",
       "        text-align: right;\n",
       "    }\n",
       "</style>\n",
       "<table border=\"1\" class=\"dataframe\">\n",
       "  <thead>\n",
       "    <tr style=\"text-align: right;\">\n",
       "      <th></th>\n",
       "      <th>Complaint-ID</th>\n",
       "      <th>Date-received</th>\n",
       "      <th>Transaction-Type</th>\n",
       "      <th>Complaint-reason</th>\n",
       "      <th>Company-response</th>\n",
       "      <th>Date-sent-to-company</th>\n",
       "      <th>Complaint-Status</th>\n",
       "      <th>Consumer-disputes</th>\n",
       "      <th>Consumer-complaint-summary</th>\n",
       "    </tr>\n",
       "  </thead>\n",
       "  <tbody>\n",
       "    <tr>\n",
       "      <th>0</th>\n",
       "      <td>Tr-1</td>\n",
       "      <td>11/11/2015</td>\n",
       "      <td>Mortgage</td>\n",
       "      <td>Loan servicing, payments, escrow account</td>\n",
       "      <td></td>\n",
       "      <td>11/11/2015</td>\n",
       "      <td>Closed with explanation</td>\n",
       "      <td>Yes</td>\n",
       "      <td>Seterus, Inc a déposé un faux rapport auprès d...</td>\n",
       "    </tr>\n",
       "    <tr>\n",
       "      <th>1</th>\n",
       "      <td>Tr-2</td>\n",
       "      <td>07/07/2015</td>\n",
       "      <td>Credit reporting</td>\n",
       "      <td>Incorrect information on credit report</td>\n",
       "      <td>Company chooses not to provide a public response</td>\n",
       "      <td>07/07/2015</td>\n",
       "      <td>Closed with non-monetary relief</td>\n",
       "      <td>No</td>\n",
       "      <td>XX / XX / XXXX La requête en faillite n ° XXXX...</td>\n",
       "    </tr>\n",
       "    <tr>\n",
       "      <th>2</th>\n",
       "      <td>Tr-3</td>\n",
       "      <td>05/07/2015</td>\n",
       "      <td>Bank account or service</td>\n",
       "      <td>Using a debit or ATM card</td>\n",
       "      <td></td>\n",
       "      <td>05/07/2015</td>\n",
       "      <td>Closed with explanation</td>\n",
       "      <td>No</td>\n",
       "      <td>El XXXX / XXXX / 15, estaba preparando el vuel...</td>\n",
       "    </tr>\n",
       "    <tr>\n",
       "      <th>3</th>\n",
       "      <td>Tr-4</td>\n",
       "      <td>11/12/2016</td>\n",
       "      <td>Debt collection</td>\n",
       "      <td>Cont'd attempts collect debt not owed</td>\n",
       "      <td>Company believes it acted appropriately as aut...</td>\n",
       "      <td>11/12/2016</td>\n",
       "      <td>Closed with explanation</td>\n",
       "      <td>No</td>\n",
       "      <td>The loan was paid in XXXX XXXX. In XXXX, 4 yea...</td>\n",
       "    </tr>\n",
       "    <tr>\n",
       "      <th>4</th>\n",
       "      <td>Tr-5</td>\n",
       "      <td>9/29/2016</td>\n",
       "      <td>Credit card</td>\n",
       "      <td>Payoff process</td>\n",
       "      <td>Company has responded to the consumer and the ...</td>\n",
       "      <td>9/29/2016</td>\n",
       "      <td>Closed with explanation</td>\n",
       "      <td>No</td>\n",
       "      <td>J'ai obtenu un compte de crédit de soins pour ...</td>\n",
       "    </tr>\n",
       "  </tbody>\n",
       "</table>\n",
       "</div>"
      ],
      "text/plain": [
       "  Complaint-ID Date-received         Transaction-Type  \\\n",
       "0         Tr-1    11/11/2015                 Mortgage   \n",
       "1         Tr-2    07/07/2015         Credit reporting   \n",
       "2         Tr-3    05/07/2015  Bank account or service   \n",
       "3         Tr-4    11/12/2016          Debt collection   \n",
       "4         Tr-5     9/29/2016              Credit card   \n",
       "\n",
       "                           Complaint-reason  \\\n",
       "0  Loan servicing, payments, escrow account   \n",
       "1    Incorrect information on credit report   \n",
       "2                 Using a debit or ATM card   \n",
       "3     Cont'd attempts collect debt not owed   \n",
       "4                            Payoff process   \n",
       "\n",
       "                                    Company-response Date-sent-to-company  \\\n",
       "0                                                              11/11/2015   \n",
       "1   Company chooses not to provide a public response           07/07/2015   \n",
       "2                                                              05/07/2015   \n",
       "3  Company believes it acted appropriately as aut...           11/12/2016   \n",
       "4  Company has responded to the consumer and the ...            9/29/2016   \n",
       "\n",
       "                  Complaint-Status Consumer-disputes  \\\n",
       "0          Closed with explanation               Yes   \n",
       "1  Closed with non-monetary relief                No   \n",
       "2          Closed with explanation                No   \n",
       "3          Closed with explanation                No   \n",
       "4          Closed with explanation                No   \n",
       "\n",
       "                          Consumer-complaint-summary  \n",
       "0  Seterus, Inc a déposé un faux rapport auprès d...  \n",
       "1  XX / XX / XXXX La requête en faillite n ° XXXX...  \n",
       "2  El XXXX / XXXX / 15, estaba preparando el vuel...  \n",
       "3  The loan was paid in XXXX XXXX. In XXXX, 4 yea...  \n",
       "4  J'ai obtenu un compte de crédit de soins pour ...  "
      ]
     },
     "execution_count": 11,
     "metadata": {
      "tags": []
     },
     "output_type": "execute_result"
    }
   ],
   "source": [
    "train.head()"
   ]
  },
  {
   "cell_type": "code",
   "execution_count": 12,
   "metadata": {
    "colab": {
     "base_uri": "https://localhost:8080/",
     "height": 310
    },
    "colab_type": "code",
    "id": "iK0yMysUtVlY",
    "outputId": "8b4b49c3-70dd-44c0-d32b-b4ab4e53d47a"
   },
   "outputs": [
    {
     "data": {
      "text/html": [
       "<div>\n",
       "<style scoped>\n",
       "    .dataframe tbody tr th:only-of-type {\n",
       "        vertical-align: middle;\n",
       "    }\n",
       "\n",
       "    .dataframe tbody tr th {\n",
       "        vertical-align: top;\n",
       "    }\n",
       "\n",
       "    .dataframe thead th {\n",
       "        text-align: right;\n",
       "    }\n",
       "</style>\n",
       "<table border=\"1\" class=\"dataframe\">\n",
       "  <thead>\n",
       "    <tr style=\"text-align: right;\">\n",
       "      <th></th>\n",
       "      <th>Complaint-ID</th>\n",
       "      <th>Date-received</th>\n",
       "      <th>Transaction-Type</th>\n",
       "      <th>Complaint-reason</th>\n",
       "      <th>Company-response</th>\n",
       "      <th>Date-sent-to-company</th>\n",
       "      <th>Consumer-disputes</th>\n",
       "      <th>Consumer-complaint-summary</th>\n",
       "    </tr>\n",
       "  </thead>\n",
       "  <tbody>\n",
       "    <tr>\n",
       "      <th>0</th>\n",
       "      <td>Te-1</td>\n",
       "      <td>8/18/2016</td>\n",
       "      <td>Bank account or service</td>\n",
       "      <td>Account opening, closing, or management</td>\n",
       "      <td>Company has responded to the consumer and the ...</td>\n",
       "      <td>8/18/2016</td>\n",
       "      <td>No</td>\n",
       "      <td>XXXX / XXXX / 16 I called Citibank to open a c...</td>\n",
       "    </tr>\n",
       "    <tr>\n",
       "      <th>1</th>\n",
       "      <td>Te-2</td>\n",
       "      <td>4/18/2016</td>\n",
       "      <td>Debt collection</td>\n",
       "      <td>Communication tactics</td>\n",
       "      <td>Company believes it acted appropriately as aut...</td>\n",
       "      <td>4/20/2016</td>\n",
       "      <td>No</td>\n",
       "      <td>I'm struggling financially. I called and I off...</td>\n",
       "    </tr>\n",
       "    <tr>\n",
       "      <th>2</th>\n",
       "      <td>Te-3</td>\n",
       "      <td>3/23/2016</td>\n",
       "      <td>Credit reporting</td>\n",
       "      <td>Incorrect information on credit report</td>\n",
       "      <td></td>\n",
       "      <td>3/23/2016</td>\n",
       "      <td>No</td>\n",
       "      <td>In XXXX of 2015, an automatic payment was conf...</td>\n",
       "    </tr>\n",
       "    <tr>\n",
       "      <th>3</th>\n",
       "      <td>Te-4</td>\n",
       "      <td>6/26/2017</td>\n",
       "      <td>Student loan</td>\n",
       "      <td>Dealing with your lender or servicer</td>\n",
       "      <td></td>\n",
       "      <td>6/26/2017</td>\n",
       "      <td>Yes</td>\n",
       "      <td>I submitted a request to XXXX, which is my cur...</td>\n",
       "    </tr>\n",
       "    <tr>\n",
       "      <th>4</th>\n",
       "      <td>Te-5</td>\n",
       "      <td>5/13/2016</td>\n",
       "      <td>Credit reporting</td>\n",
       "      <td>Incorrect information on credit report</td>\n",
       "      <td>Company has responded to the consumer and the ...</td>\n",
       "      <td>5/13/2016</td>\n",
       "      <td>No</td>\n",
       "      <td>A state tax lien was filed against me XXXX / X...</td>\n",
       "    </tr>\n",
       "  </tbody>\n",
       "</table>\n",
       "</div>"
      ],
      "text/plain": [
       "  Complaint-ID Date-received         Transaction-Type  \\\n",
       "0         Te-1     8/18/2016  Bank account or service   \n",
       "1         Te-2     4/18/2016          Debt collection   \n",
       "2         Te-3     3/23/2016         Credit reporting   \n",
       "3         Te-4     6/26/2017             Student loan   \n",
       "4         Te-5     5/13/2016         Credit reporting   \n",
       "\n",
       "                          Complaint-reason  \\\n",
       "0  Account opening, closing, or management   \n",
       "1                    Communication tactics   \n",
       "2   Incorrect information on credit report   \n",
       "3     Dealing with your lender or servicer   \n",
       "4   Incorrect information on credit report   \n",
       "\n",
       "                                    Company-response Date-sent-to-company  \\\n",
       "0  Company has responded to the consumer and the ...            8/18/2016   \n",
       "1  Company believes it acted appropriately as aut...            4/20/2016   \n",
       "2                                                               3/23/2016   \n",
       "3                                                               6/26/2017   \n",
       "4  Company has responded to the consumer and the ...            5/13/2016   \n",
       "\n",
       "  Consumer-disputes                         Consumer-complaint-summary  \n",
       "0                No  XXXX / XXXX / 16 I called Citibank to open a c...  \n",
       "1                No  I'm struggling financially. I called and I off...  \n",
       "2                No  In XXXX of 2015, an automatic payment was conf...  \n",
       "3               Yes  I submitted a request to XXXX, which is my cur...  \n",
       "4                No  A state tax lien was filed against me XXXX / X...  "
      ]
     },
     "execution_count": 12,
     "metadata": {
      "tags": []
     },
     "output_type": "execute_result"
    }
   ],
   "source": [
    "test.head()"
   ]
  },
  {
   "cell_type": "code",
   "execution_count": 0,
   "metadata": {
    "colab": {},
    "colab_type": "code",
    "id": "ihAaGKQsP5Rl"
   },
   "outputs": [],
   "source": [
    "stop = []\n",
    "stop_en = set(stopwords.words('english'))\n",
    "stop_sp = set(stopwords.words('spanish'))\n",
    "stop_fr = set(stopwords.words('french'))\n",
    "stop.extend(stop_en)\n",
    "stop.extend(stop_sp)\n",
    "stop.extend(stop_fr)\n",
    "stop = [token.lower() for token in stop]"
   ]
  },
  {
   "cell_type": "code",
   "execution_count": 0,
   "metadata": {
    "colab": {},
    "colab_type": "code",
    "id": "YDyRPP7TP5R9"
   },
   "outputs": [],
   "source": [
    "train_sum = train['Consumer-complaint-summary']\n",
    "\n",
    "train_sum = train_sum.apply(lambda x: x.replace('X', ''))\n",
    "train_sum = train_sum.apply(lambda x: x.replace('Y', ''))\n",
    "train_sum = train_sum.apply(lambda x: x.replace('   ', ' '))\n",
    "train_sum = train_sum.apply(lambda x: x.replace('  ', ' '))\n",
    "train_sum = train_sum.apply(lambda x: x.replace('&lt;', ''))\n",
    "train_sum = train_sum.apply(lambda x: x.replace('&gt;', ''))\n",
    "train_sum = train_sum.apply(lambda x: x.replace('<[^<]+?>', ''))\n",
    "train_sum = train_sum.apply(lambda x: x.replace('\\r\\n', ''))\n",
    "train_sum = train_sum.apply(lambda x: x.replace('\\r', ''))\n",
    "train_sum = train_sum.apply(lambda x: x.replace(r\"[^a-zA-Z]+\", ''))\n",
    "train_sum = train_sum.apply(lambda x: x.replace(('('), ''))\n",
    "train_sum = train_sum.apply(lambda x: x.replace((')'), ''))\n",
    "train_sum = train_sum.apply(lambda x: x.replace(('{'), ''))\n",
    "train_sum = train_sum.apply(lambda x: x.replace(('}'), ''))\n",
    "train_sum = train_sum.apply(lambda x: x.replace((','), ''))\n",
    "train_sum = train_sum.apply(lambda x: x.replace(('.'), ''))\n",
    "train_sum = train_sum.apply(lambda x: x.replace((':'), ''))\n",
    "train_sum = train_sum.apply(lambda x: re.sub(r'\\b\\d+\\b', '', x))\n",
    "train_sum = train_sum.apply(lambda x: ' '.join([item.lower() for item in x.split() if item.lower() not in stop]))\n",
    "train_sum = train_sum.apply(lambda x: ' '.join([item for item in x.split() if len(item)>2]))"
   ]
  },
  {
   "cell_type": "code",
   "execution_count": 15,
   "metadata": {
    "colab": {
     "base_uri": "https://localhost:8080/",
     "height": 55
    },
    "colab_type": "code",
    "id": "DwCl3ZJyP5SL",
    "outputId": "f1237c8a-c225-4fec-d1b8-a4b494a077e1"
   },
   "outputs": [
    {
     "data": {
      "text/plain": [
       "'loan paid years moved moved months paying debt representative contacted suddenly indicating debt paid owe explained debt paid many years passed destroyed documents need keep since account paid fact owed loan right cash check possession received account paid something asked provide could provide anything despite letter conversation phone continually harassed nothing sent contacted collection letter trying collect debt two additional years total years paid debt tries collect debt paid full receiving letter cascade capital trying collect seems collection agencies problem finding contacted phone account understand spent many years without contact suddenly want collect debt paid entirety somehow records disaster maybe since cash base company representative may stolen money check issued understanding payment made due date check processed never made never done received canceled account unfortunately try destroy records find need keep unfortunately saved knew would happen'"
      ]
     },
     "execution_count": 15,
     "metadata": {
      "tags": []
     },
     "output_type": "execute_result"
    }
   ],
   "source": [
    "train_sum[3]"
   ]
  },
  {
   "cell_type": "code",
   "execution_count": 0,
   "metadata": {
    "colab": {},
    "colab_type": "code",
    "id": "J-vfKl23P5Sb"
   },
   "outputs": [],
   "source": [
    "test_sum = test['Consumer-complaint-summary']\n",
    "\n",
    "test_sum = test_sum.apply(lambda x: x.replace('X', ''))\n",
    "test_sum = test_sum.apply(lambda x: x.replace('Y', ''))\n",
    "test_sum = test_sum.apply(lambda x: x.replace('   ', ' '))\n",
    "test_sum = test_sum.apply(lambda x: x.replace('  ', ' '))\n",
    "test_sum = test_sum.apply(lambda x: x.replace('&lt;', ''))\n",
    "test_sum = test_sum.apply(lambda x: x.replace('&gt;', ''))\n",
    "test_sum = test_sum.apply(lambda x: x.replace('<[^<]+?>', ''))\n",
    "test_sum = test_sum.apply(lambda x: x.replace('\\r\\n', ''))\n",
    "test_sum = test_sum.apply(lambda x: x.replace('\\r', ''))\n",
    "test_sum = test_sum.apply(lambda x: x.replace(r\"[^a-zA-Z]+\", ''))\n",
    "test_sum = test_sum.apply(lambda x: x.replace(('('), ''))\n",
    "test_sum = test_sum.apply(lambda x: x.replace((')'), ''))\n",
    "test_sum = test_sum.apply(lambda x: x.replace(('{'), ''))\n",
    "test_sum = test_sum.apply(lambda x: x.replace(('}'), ''))\n",
    "test_sum = test_sum.apply(lambda x: x.replace((','), ''))\n",
    "test_sum = test_sum.apply(lambda x: x.replace(('.'), ''))\n",
    "test_sum = test_sum.apply(lambda x: x.replace((':'), ''))\n",
    "test_sum = test_sum.apply(lambda x: re.sub(r'\\b\\d+\\b', '', x))\n",
    "test_sum = test_sum.apply(lambda x: ' '.join([item.lower() for item in x.split() if item.lower() not in stop]))\n",
    "test_sum = test_sum.apply(lambda x: ' '.join([item for item in x.split() if len(item)>2]))"
   ]
  },
  {
   "cell_type": "code",
   "execution_count": 17,
   "metadata": {
    "colab": {
     "base_uri": "https://localhost:8080/",
     "height": 55
    },
    "colab_type": "code",
    "id": "xNg8cjULP5Sm",
    "outputId": "710947ba-7b9e-494c-8cd2-907c9671b963"
   },
   "outputs": [
    {
     "data": {
      "text/plain": [
       "'automatic payment configured capital line personal account amount incorrectly configured first statement reflected partial month payments made day month amount instead correct amount another mortgage making additional payment per month last two years reduce capital lender never notified lack payment phone text message email even though information provided husband office never sent late payment letter mail due failure lender notify properly several mortgages businesses lines credit credit cards never delayed last years credit score dropped almost points line closed lender given fair chance remedy error problem would solved immediately eliminate late payment credit agencies involuntary error amount automatic payment payments made every month extra payment made lender another meeting totally unfair harmful consumers pay years deserve ruined credit lender could made sure contact'"
      ]
     },
     "execution_count": 17,
     "metadata": {
      "tags": []
     },
     "output_type": "execute_result"
    }
   ],
   "source": [
    "test_sum[2]"
   ]
  },
  {
   "cell_type": "code",
   "execution_count": 0,
   "metadata": {
    "colab": {},
    "colab_type": "code",
    "id": "7UdePaHtP5Sv"
   },
   "outputs": [],
   "source": [
    "train['Consumer-complaint-summary'] = train_sum\n",
    "test['Consumer-complaint-summary'] = test_sum"
   ]
  },
  {
   "cell_type": "code",
   "execution_count": 0,
   "metadata": {
    "colab": {},
    "colab_type": "code",
    "id": "5KRVjZKlP5S4"
   },
   "outputs": [],
   "source": [
    "train_df = pd.DataFrame(columns=['Text'])\n",
    "test_df = pd.DataFrame(columns=['Text'])\n",
    "train_df['Text'] = train['Transaction-Type'] + ' ' + train['Complaint-reason'] + ' ' + train['Company-response'] + ' ' + train['Consumer-disputes'] + ' ' + train['Consumer-complaint-summary']\n",
    "test_df['Text'] = test['Transaction-Type'] + ' ' + test['Complaint-reason'] + ' ' + test['Company-response'] + ' ' + test['Consumer-disputes'] + ' ' + test['Consumer-complaint-summary']"
   ]
  },
  {
   "cell_type": "code",
   "execution_count": 0,
   "metadata": {
    "colab": {},
    "colab_type": "code",
    "id": "Dk9eoI_ZP5S_"
   },
   "outputs": [],
   "source": [
    "train_df['Text'] = train_df['Text'].apply(lambda x: ' '.join([item.lower() for item in x.split() if item.lower() not in stop]))\n",
    "train_df['Text'] = train_df['Text'].apply(lambda x: ' '.join([item for item in x.split() if len(item)>2]))\n",
    "train_df['Text'] = train_df['Text'].apply(lambda x: x.replace((','), ''))\n",
    "train_df['Text'] = train_df['Text'].apply(lambda x: x.replace(('.'), ''))\n",
    "\n",
    "test_df['Text'] = test_df['Text'].apply(lambda x: ' '.join([item.lower() for item in x.split() if item.lower() not in stop]))\n",
    "test_df['Text'] = test_df['Text'].apply(lambda x: ' '.join([item for item in x.split() if len(item)>2]))\n",
    "test_df['Text'] = test_df['Text'].apply(lambda x: x.replace((','), ''))\n",
    "test_df['Text'] = test_df['Text'].apply(lambda x: x.replace(('.'), ''))"
   ]
  },
  {
   "cell_type": "code",
   "execution_count": 21,
   "metadata": {
    "colab": {
     "base_uri": "https://localhost:8080/",
     "height": 55
    },
    "colab_type": "code",
    "id": "6FwEzXv9P5TI",
    "outputId": "f712377c-8410-4bd1-8a03-74b671c7fe73"
   },
   "outputs": [
    {
     "data": {
      "text/plain": [
       "\"debt collection cont'd attempts collect debt owed company believes acted appropriately authorized contract law loan paid years moved moved months paying debt representative contacted suddenly indicating debt paid owe explained debt paid many years passed destroyed documents need keep since account paid fact owed loan right cash check possession received account paid something asked provide could provide anything despite letter conversation phone continually harassed nothing sent contacted collection letter trying collect debt two additional years total years paid debt tries collect debt paid full receiving letter cascade capital trying collect seems collection agencies problem finding contacted phone account understand spent many years without contact suddenly want collect debt paid entirety somehow records disaster maybe since cash base company representative may stolen money check issued understanding payment made due date check processed never made never done received canceled account unfortunately try destroy records find need keep unfortunately saved knew would happen\""
      ]
     },
     "execution_count": 21,
     "metadata": {
      "tags": []
     },
     "output_type": "execute_result"
    }
   ],
   "source": [
    "train_df['Text'][3]"
   ]
  },
  {
   "cell_type": "code",
   "execution_count": 22,
   "metadata": {
    "colab": {
     "base_uri": "https://localhost:8080/",
     "height": 55
    },
    "colab_type": "code",
    "id": "3RmHdpeAP5Te",
    "outputId": "0ae3ccbf-bbe1-4ca9-fef0-3c8a2055872a"
   },
   "outputs": [
    {
     "data": {
      "text/plain": [
       "'credit reporting incorrect information credit report automatic payment configured capital line personal account amount incorrectly configured first statement reflected partial month payments made day month amount instead correct amount another mortgage making additional payment per month last two years reduce capital lender never notified lack payment phone text message email even though information provided husband office never sent late payment letter mail due failure lender notify properly several mortgages businesses lines credit credit cards never delayed last years credit score dropped almost points line closed lender given fair chance remedy error problem would solved immediately eliminate late payment credit agencies involuntary error amount automatic payment payments made every month extra payment made lender another meeting totally unfair harmful consumers pay years deserve ruined credit lender could made sure contact'"
      ]
     },
     "execution_count": 22,
     "metadata": {
      "tags": []
     },
     "output_type": "execute_result"
    }
   ],
   "source": [
    "test_df['Text'][2]"
   ]
  },
  {
   "cell_type": "code",
   "execution_count": 0,
   "metadata": {
    "colab": {},
    "colab_type": "code",
    "id": "MBphYklX1_CT"
   },
   "outputs": [],
   "source": [
    "to_num ={'Closed with explanation':0, \n",
    "'Closed with non-monetary relief':1,\n",
    "'Closed':2,\n",
    "'Closed with monetary relief':3,\n",
    "'Untimely response':4}\n",
    "to_label ={0:'Closed with explanation', \n",
    "1:'Closed with non-monetary relief',\n",
    "2:'Closed',\n",
    "3:'Closed with monetary relief',\n",
    "4:'Untimely response'}\n",
    "train['Complaint-Status'] = train['Complaint-Status'].map(to_num)"
   ]
  },
  {
   "cell_type": "code",
   "execution_count": 0,
   "metadata": {
    "colab": {},
    "colab_type": "code",
    "id": "XNddA1zzP5Ts"
   },
   "outputs": [],
   "source": [
    "traindf = train_df['Text']\n",
    "testdf = test_df['Text']"
   ]
  },
  {
   "cell_type": "code",
   "execution_count": 0,
   "metadata": {
    "colab": {},
    "colab_type": "code",
    "id": "OvZokbWxP5T9"
   },
   "outputs": [],
   "source": [
    "vectorizer = TfidfVectorizer(ngram_range=(1,5))\n",
    "\n",
    "trainc = vectorizer.fit_transform(traindf)\n",
    "testc = vectorizer.transform(testdf)"
   ]
  },
  {
   "cell_type": "code",
   "execution_count": 0,
   "metadata": {
    "colab": {},
    "colab_type": "code",
    "id": "EGfQ4XysP5UT"
   },
   "outputs": [],
   "source": [
    "X_train = trainc\n",
    "y_train = train['Complaint-Status']\n",
    "X_test = testc"
   ]
  },
  {
   "cell_type": "code",
   "execution_count": 27,
   "metadata": {
    "colab": {
     "base_uri": "https://localhost:8080/",
     "height": 72
    },
    "colab_type": "code",
    "id": "s4I9TugMP5Uh",
    "outputId": "a9329930-f9f5-442c-9d62-9abea9bb8015"
   },
   "outputs": [
    {
     "name": "stdout",
     "output_type": "stream",
     "text": [
      "(43266, 11586966)\n",
      "43266\n",
      "(18543, 11586966)\n"
     ]
    }
   ],
   "source": [
    "print(X_train.shape)\n",
    "print(len(y_train))\n",
    "print(X_test.shape)"
   ]
  },
  {
   "cell_type": "code",
   "execution_count": 28,
   "metadata": {
    "colab": {
     "base_uri": "https://localhost:8080/",
     "height": 127
    },
    "colab_type": "code",
    "id": "fcg6GM1Qtn6f",
    "outputId": "b149576e-91c1-4e52-e9b1-9aec4b6aa538"
   },
   "outputs": [
    {
     "data": {
      "text/plain": [
       "0    0\n",
       "1    1\n",
       "2    0\n",
       "3    0\n",
       "4    0\n",
       "Name: Complaint-Status, dtype: int64"
      ]
     },
     "execution_count": 28,
     "metadata": {
      "tags": []
     },
     "output_type": "execute_result"
    }
   ],
   "source": [
    "y_train[:5]"
   ]
  },
  {
   "cell_type": "code",
   "execution_count": 29,
   "metadata": {
    "colab": {
     "base_uri": "https://localhost:8080/",
     "height": 127
    },
    "colab_type": "code",
    "id": "elEq9fBaP5Ur",
    "outputId": "01090c0b-4a4c-44a4-96c8-a478c8bcfaea"
   },
   "outputs": [
    {
     "name": "stdout",
     "output_type": "stream",
     "text": [
      "LinearSVC(C=1.1, class_weight=None, dual=False, fit_intercept=True,\n",
      "     intercept_scaling=1, loss='squared_hinge', max_iter=1000,\n",
      "     multi_class='ovr', penalty='l1', random_state=0, tol=0.0001,\n",
      "     verbose=0)\n"
     ]
    },
    {
     "name": "stderr",
     "output_type": "stream",
     "text": [
      "/usr/local/lib/python3.6/dist-packages/sklearn/svm/base.py:931: ConvergenceWarning: Liblinear failed to converge, increase the number of iterations.\n",
      "  \"the number of iterations.\", ConvergenceWarning)\n"
     ]
    }
   ],
   "source": [
    "# model = XGBClassifier(n_estimators=200, max_depth=12)\n",
    "model = LinearSVC(random_state=0, penalty='l1', dual=False, C=1.1)\n",
    "print(model)\n",
    "model.fit(X_train, y_train)\n",
    "y_pred = model.predict(X_test)"
   ]
  },
  {
   "cell_type": "code",
   "execution_count": 30,
   "metadata": {
    "colab": {
     "base_uri": "https://localhost:8080/",
     "height": 127
    },
    "colab_type": "code",
    "id": "h7a33RU3nAfq",
    "outputId": "9e0d789b-6858-4150-8681-f7cccd1d971a"
   },
   "outputs": [
    {
     "data": {
      "text/plain": [
       "0    16346\n",
       "3     1140\n",
       "1     1025\n",
       "2       29\n",
       "4        3\n",
       "Name: y_pred, dtype: int64"
      ]
     },
     "execution_count": 30,
     "metadata": {
      "tags": []
     },
     "output_type": "execute_result"
    }
   ],
   "source": [
    "df = pd.DataFrame()\n",
    "df['y_pred'] = y_pred\n",
    "df['y_pred'].value_counts()"
   ]
  },
  {
   "cell_type": "code",
   "execution_count": 31,
   "metadata": {
    "colab": {
     "base_uri": "https://localhost:8080/",
     "height": 127
    },
    "colab_type": "code",
    "id": "7jeACrePhhgV",
    "outputId": "b394bfe2-ec82-4b22-d056-22520e96adb1"
   },
   "outputs": [
    {
     "data": {
      "text/plain": [
       "0    Closed with non-monetary relief\n",
       "1            Closed with explanation\n",
       "2            Closed with explanation\n",
       "3            Closed with explanation\n",
       "4            Closed with explanation\n",
       "Name: y_pred, dtype: object"
      ]
     },
     "execution_count": 31,
     "metadata": {
      "tags": []
     },
     "output_type": "execute_result"
    }
   ],
   "source": [
    "y_pred_label = df['y_pred'].map(to_label)\n",
    "y_pred_label[:5]"
   ]
  },
  {
   "cell_type": "code",
   "execution_count": 0,
   "metadata": {
    "colab": {},
    "colab_type": "code",
    "id": "_Glpm0L8P5U-"
   },
   "outputs": [],
   "source": [
    "submit = pd.DataFrame(columns=['Complaint-ID', 'Complaint-Status'])\n",
    "submit['Complaint-ID'] = ids\n",
    "submit['Complaint-Status'] = y_pred_label\n",
    "submit.to_csv('/content/drive/My Drive/Colab Notebooks/SG/submit.csv', index=False)"
   ]
  },
  {
   "cell_type": "code",
   "execution_count": 0,
   "metadata": {
    "colab": {},
    "colab_type": "code",
    "id": "UoJ5hBDEtMaS"
   },
   "outputs": [],
   "source": []
  }
 ],
 "metadata": {
  "accelerator": "GPU",
  "colab": {
   "name": "Complaint Status.ipynb",
   "provenance": [],
   "version": "0.3.2"
  },
  "kernelspec": {
   "display_name": "Python 3",
   "language": "python",
   "name": "python3"
  },
  "language_info": {
   "codemirror_mode": {
    "name": "ipython",
    "version": 3
   },
   "file_extension": ".py",
   "mimetype": "text/x-python",
   "name": "python",
   "nbconvert_exporter": "python",
   "pygments_lexer": "ipython3",
   "version": "3.6.5"
  }
 },
 "nbformat": 4,
 "nbformat_minor": 1
}
