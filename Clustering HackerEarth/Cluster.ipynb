{
 "cells": [
  {
   "cell_type": "code",
   "execution_count": 1,
   "metadata": {},
   "outputs": [],
   "source": [
    "import pandas as pd\n",
    "import numpy as np\n",
    "from nltk.corpus import stopwords\n",
    "from nltk import word_tokenize\n",
    "from nltk import WordNetLemmatizer\n",
    "from nltk.stem import LancasterStemmer\n",
    "import re\n",
    "from sklearn.feature_extraction.text import TfidfVectorizer, CountVectorizer\n",
    "from sklearn.cluster import KMeans"
   ]
  },
  {
   "cell_type": "code",
   "execution_count": 2,
   "metadata": {},
   "outputs": [],
   "source": [
    "df = pd.read_csv('news.csv')"
   ]
  },
  {
   "cell_type": "code",
   "execution_count": 3,
   "metadata": {},
   "outputs": [
    {
     "data": {
      "text/html": [
       "<div>\n",
       "<style scoped>\n",
       "    .dataframe tbody tr th:only-of-type {\n",
       "        vertical-align: middle;\n",
       "    }\n",
       "\n",
       "    .dataframe tbody tr th {\n",
       "        vertical-align: top;\n",
       "    }\n",
       "\n",
       "    .dataframe thead th {\n",
       "        text-align: right;\n",
       "    }\n",
       "</style>\n",
       "<table border=\"1\" class=\"dataframe\">\n",
       "  <thead>\n",
       "    <tr style=\"text-align: right;\">\n",
       "      <th></th>\n",
       "      <th>id</th>\n",
       "      <th>headline</th>\n",
       "      <th>text</th>\n",
       "    </tr>\n",
       "  </thead>\n",
       "  <tbody>\n",
       "    <tr>\n",
       "      <th>0</th>\n",
       "      <td>uid-1</td>\n",
       "      <td>Market Advances 5.12 More</td>\n",
       "      <td>NEW YORK (AP) - A prime rate reduction by New ...</td>\n",
       "    </tr>\n",
       "    <tr>\n",
       "      <th>1</th>\n",
       "      <td>uid-2</td>\n",
       "      <td>District Boosts Request For Anti-Terrorism Aid...</td>\n",
       "      <td>Mayor Anthony A. Williams petitioned the White...</td>\n",
       "    </tr>\n",
       "    <tr>\n",
       "      <th>2</th>\n",
       "      <td>uid-3</td>\n",
       "      <td>Election? Here's How You Do It, Mate.</td>\n",
       "      <td>From our downunder perspective here in Austral...</td>\n",
       "    </tr>\n",
       "    <tr>\n",
       "      <th>3</th>\n",
       "      <td>uid-4</td>\n",
       "      <td>The Biggest Boom Ever</td>\n",
       "      <td>We are about to rewrite history. Unless a rece...</td>\n",
       "    </tr>\n",
       "    <tr>\n",
       "      <th>4</th>\n",
       "      <td>uid-5</td>\n",
       "      <td>Economic Aide Sees Uptrend</td>\n",
       "      <td>Sedate and scholarly Dr. Arthur Burns, the ex-...</td>\n",
       "    </tr>\n",
       "  </tbody>\n",
       "</table>\n",
       "</div>"
      ],
      "text/plain": [
       "      id                                           headline  \\\n",
       "0  uid-1                          Market Advances 5.12 More   \n",
       "1  uid-2  District Boosts Request For Anti-Terrorism Aid...   \n",
       "2  uid-3              Election? Here's How You Do It, Mate.   \n",
       "3  uid-4                              The Biggest Boom Ever   \n",
       "4  uid-5                         Economic Aide Sees Uptrend   \n",
       "\n",
       "                                                text  \n",
       "0  NEW YORK (AP) - A prime rate reduction by New ...  \n",
       "1  Mayor Anthony A. Williams petitioned the White...  \n",
       "2  From our downunder perspective here in Austral...  \n",
       "3  We are about to rewrite history. Unless a rece...  \n",
       "4  Sedate and scholarly Dr. Arthur Burns, the ex-...  "
      ]
     },
     "execution_count": 3,
     "metadata": {},
     "output_type": "execute_result"
    }
   ],
   "source": [
    "df.head()"
   ]
  },
  {
   "cell_type": "code",
   "execution_count": 4,
   "metadata": {},
   "outputs": [],
   "source": [
    "ids = df.id.tolist()"
   ]
  },
  {
   "cell_type": "code",
   "execution_count": 5,
   "metadata": {},
   "outputs": [],
   "source": [
    "df['data'] = df['headline'] + ' ' + df['text']"
   ]
  },
  {
   "cell_type": "code",
   "execution_count": 6,
   "metadata": {},
   "outputs": [],
   "source": [
    "stop_words = set(stopwords.words('english'))\n",
    "lemma = WordNetLemmatizer()\n",
    "stemmer = LancasterStemmer()\n",
    "\n",
    "def clean(text):\n",
    "    text = text.lower()\n",
    "    text = text.replace(\"<br>\", '')\n",
    "    text = text.replace(\"</br>\", '')\n",
    "    text = re.sub(r\"what's\", \"what is \", text)\n",
    "    text = re.sub(r\"\\'s\", \" is \", text)\n",
    "    text = re.sub(r\"\\'ve\", \" have \", text)\n",
    "    text = re.sub(r\"can't\", \"cannot \", text)\n",
    "    text = re.sub(r\"n't\", \" not \", text)\n",
    "    text = re.sub(r\"i'm\", \"i am \", text)\n",
    "    text = re.sub(r\"\\'re\", \" are \", text)\n",
    "    text = re.sub(r\"\\'d\", \" would \", text)\n",
    "    text = re.sub(r\"\\'ll\", \" will \", text)\n",
    "    text = re.sub(r'\\W+', ' ', text)\n",
    "    text = re.sub(r'\\s+', ' ', text)\n",
    "    text = re.sub(r\"\\\\\", \"\", text)\n",
    "    text = re.sub(r\"\\'\", \"\", text)    \n",
    "    text = re.sub(r\"\\\"\", \"\", text)\n",
    "    # keep alphabets only\n",
    "    text = re.sub('[^a-zA-Z ?!]+', '', text)\n",
    "    # tokenize\n",
    "    text_token = word_tokenize(text)\n",
    "    # stopwords removal\n",
    "    words = [word for word in text_token if word not in stop_words]\n",
    "    # converting words to basic form \n",
    "    stemmed_words = [lemma.lemmatize(word) for word in words]\n",
    "#     stemmed = [stemmer.stem(word) for word in stemmed_words]\n",
    "    stemmed = [x for x in stemmed_words if len(x) > 2]\n",
    "    # join list elements to string\n",
    "    clean_text = \" \".join(stemmed)\n",
    "    return clean_text"
   ]
  },
  {
   "cell_type": "code",
   "execution_count": 7,
   "metadata": {},
   "outputs": [],
   "source": [
    "df['data'] = df['data'].apply(lambda x: clean(x))"
   ]
  },
  {
   "cell_type": "code",
   "execution_count": 16,
   "metadata": {},
   "outputs": [
    {
     "data": {
      "text/plain": [
       "'market advance new york prime rate reduction new york first national city bank helped stock market close busiest week history modest advance friday dow jones average industrial stock gained finishing week withanetrise point big board volume million share fell good deal short matching thursday time high million day figure enough push total week record million share previous peak million last week january dow advanced two first session new year friday close gained point since new year'"
      ]
     },
     "execution_count": 16,
     "metadata": {},
     "output_type": "execute_result"
    }
   ],
   "source": [
    "df['data'][0]"
   ]
  },
  {
   "cell_type": "code",
   "execution_count": 9,
   "metadata": {},
   "outputs": [],
   "source": [
    "vectorizer = TfidfVectorizer(ngram_range=(1, 3), stop_words='english', max_features=3, max_df=0.001)\n",
    "\n",
    "data = vectorizer.fit_transform(df.data)              \n",
    "data1 = data"
   ]
  },
  {
   "cell_type": "code",
   "execution_count": 10,
   "metadata": {},
   "outputs": [
    {
     "data": {
      "text/plain": [
       "(3000, 3)"
      ]
     },
     "execution_count": 10,
     "metadata": {},
     "output_type": "execute_result"
    }
   ],
   "source": [
    "data.shape"
   ]
  },
  {
   "cell_type": "code",
   "execution_count": 11,
   "metadata": {},
   "outputs": [],
   "source": [
    "from sklearn.decomposition import TruncatedSVD\n",
    "svd = TruncatedSVD(n_components=2, random_state=0)\n",
    "new_data = svd.fit_transform(data)"
   ]
  },
  {
   "cell_type": "code",
   "execution_count": 12,
   "metadata": {},
   "outputs": [
    {
     "name": "stdout",
     "output_type": "stream",
     "text": [
      "[0 0 0 ... 0 0 0] 2.9969969969969976 KMeans(algorithm='auto', copy_x=True, init='k-means++', max_iter=500,\n",
      "    n_clusters=2, n_init=10, n_jobs=1, precompute_distances='auto',\n",
      "    random_state=42, tol=0.0001, verbose=0)\n"
     ]
    }
   ],
   "source": [
    "kmeans = KMeans(n_clusters=2, random_state=42, max_iter=500)\n",
    "kmeans.fit(new_data)\n",
    "label = kmeans.labels_\n",
    "print(kmeans.labels_, kmeans.inertia_, kmeans )"
   ]
  },
  {
   "cell_type": "code",
   "execution_count": 13,
   "metadata": {},
   "outputs": [],
   "source": [
    "new_df = pd.DataFrame(columns=['id', 'cluster'])\n",
    "new_df['id'] = ids\n",
    "new_df['cluster'] = label\n",
    "new_df.to_csv('submission.csv', index=False)"
   ]
  },
  {
   "cell_type": "code",
   "execution_count": 14,
   "metadata": {},
   "outputs": [
    {
     "data": {
      "text/plain": [
       "(3000, 2)"
      ]
     },
     "execution_count": 14,
     "metadata": {},
     "output_type": "execute_result"
    }
   ],
   "source": [
    "new_data.shape"
   ]
  },
  {
   "cell_type": "code",
   "execution_count": 15,
   "metadata": {},
   "outputs": [],
   "source": [
    "np.savetxt('submission.txt', new_data)"
   ]
  },
  {
   "cell_type": "code",
   "execution_count": null,
   "metadata": {},
   "outputs": [],
   "source": []
  }
 ],
 "metadata": {
  "kernelspec": {
   "display_name": "Python 3",
   "language": "python",
   "name": "python3"
  },
  "language_info": {
   "codemirror_mode": {
    "name": "ipython",
    "version": 3
   },
   "file_extension": ".py",
   "mimetype": "text/x-python",
   "name": "python",
   "nbconvert_exporter": "python",
   "pygments_lexer": "ipython3",
   "version": "3.6.5"
  }
 },
 "nbformat": 4,
 "nbformat_minor": 2
}
